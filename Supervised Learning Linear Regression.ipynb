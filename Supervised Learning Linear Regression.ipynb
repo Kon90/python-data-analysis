{
 "cells": [
  {
   "cell_type": "markdown",
   "metadata": {},
   "source": [
    "In this section we will be going over linear regression. We'll be going over how to use the scikit-learn regression model, as well as how to train the regressor using the fit() method, and how to predict new labels using the predict() method. We'll be analyzing a data set consisting of house prices in Boston. We'll start off with a single variable linear regression using numpy and then move on to using scikit learn. We'll do an overview of the mathematics behind the method we're using, but mostly we'll dive deeper into pratical \"hands-on\" coding lessons.\n",
    "\n",
    "If you're interested in the deeper mathematics of linear regession methods, check out the wikipedia page and also check out Andrew Ng's wonderful lectures for free on youtube.\n",
    "\n",
    "In this section we will be working through linear regression with the following steps:\n",
    "\n",
    "- Step 1: Getting and setting up the data.\n",
    "- Step 2: Visualizing current data.\n",
    "- Step 3: The mathematics behind the Least Squares Method.\n",
    "- Step 4: Using Numpy for a Univariate Linear Regression.\n",
    "- Step 5: Getting the error.\n",
    "- Step 6: Using scikit learn to implement a multivariate regression.\n",
    "- Step 7: Using Training and Validation.  \n",
    "- Step 8: Predicting Prices\n",
    "- Step 9 : Residual Plots\n",
    "\n",
    "\n",
    "### Step 1: Getting and setting up the data.\n",
    "\n",
    "We'll start by looking a an example of a dataset from scikit-learn. First we'll import our usual data analysis imports, then sklearn's built-in boston dataset."
   ]
  },
  {
   "cell_type": "code",
   "execution_count": null,
   "metadata": {},
   "outputs": [],
   "source": []
  }
 ],
 "metadata": {
  "kernelspec": {
   "display_name": "Python 3",
   "language": "python",
   "name": "python3"
  },
  "language_info": {
   "codemirror_mode": {
    "name": "ipython",
    "version": 3
   },
   "file_extension": ".py",
   "mimetype": "text/x-python",
   "name": "python",
   "nbconvert_exporter": "python",
   "pygments_lexer": "ipython3",
   "version": "3.7.4"
  }
 },
 "nbformat": 4,
 "nbformat_minor": 2
}
